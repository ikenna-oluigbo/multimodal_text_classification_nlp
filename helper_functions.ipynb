{
 "cells": [
  {
   "cell_type": "code",
   "execution_count": 2,
   "id": "972adcde-6992-4fc3-92fd-03ef749a86a2",
   "metadata": {},
   "outputs": [],
   "source": [
    "def unzip_files(filename):\n",
    "    \"This funcion helps us to unzip a file into a folder directory\"\n",
    "    \n",
    "    import zipfile\n",
    "    \n",
    "    with zipfile.ZipFile(filename, 'r') as zip_ref:\n",
    "        return zip_ref.extractall('output_name')\n",
    "\n",
    "def calculate_results(y_true, y_pred):\n",
    "    # Function to evaluate: accuracy, precision, recall, and F1 score \n",
    "    \"\"\"\n",
    "        Calculates the accuracy, precision, recall, and F1 score for the classification model. \n",
    "    \"\"\"\n",
    "    from sklearn.metrics import accuracy_score, precision_recall_fscore_support \n",
    "    model_accuracy = accuracy_score(y_true, y_pred) * 100 \n",
    "    model_precision, model_recall, model_f1, _ = precision_recall_fscore_support(y_true, y_pred, average='weighted')\n",
    "    model_results = {\"Accuracy\": model_accuracy, \n",
    "                     \"Precision\": model_precision, \n",
    "                     \"Recall\": model_recall,\n",
    "                     \"F1\": model_f1}\n",
    "    return model_results\n",
    "\n",
    "def create_tensorboard_callback(dir_name, experiment_name):\n",
    "  \"\"\"\n",
    "  Creates a TensorBoard callback instand to store log files.\n",
    "\n",
    "  Stores log files with the filepath:\n",
    "    \"dir_name/experiment_name/current_datetime/\"\n",
    "\n",
    "  Args:\n",
    "    dir_name: target directory to store TensorBoard log files\n",
    "    experiment_name: name of experiment directory (e.g. efficientnet_model_1)\n",
    "  \"\"\"\n",
    "  log_dir = dir_name + \"/\" + experiment_name + \"/\" + datetime.datetime.now().strftime(\"%Y%m%d-%H%M%S\")\n",
    "  tensorboard_callback = tf.keras.callbacks.TensorBoard(\n",
    "      log_dir=log_dir\n",
    "  )\n",
    "  print(f\"Saving TensorBoard log files to: {log_dir}\")\n",
    "  return tensorboard_callback"
   ]
  }
 ],
 "metadata": {
  "kernelspec": {
   "display_name": "Python 3 (ipykernel)",
   "language": "python",
   "name": "python3"
  },
  "language_info": {
   "codemirror_mode": {
    "name": "ipython",
    "version": 3
   },
   "file_extension": ".py",
   "mimetype": "text/x-python",
   "name": "python",
   "nbconvert_exporter": "python",
   "pygments_lexer": "ipython3",
   "version": "3.12.5"
  }
 },
 "nbformat": 4,
 "nbformat_minor": 5
}
